{
 "cells": [
  {
   "cell_type": "markdown",
   "source": [
    "Imports"
   ],
   "metadata": {
    "collapsed": false
   },
   "id": "49fef9c58c59e904"
  },
  {
   "cell_type": "code",
   "execution_count": 1,
   "outputs": [],
   "source": [
    "import torch\n",
    "import torch.nn as nn\n",
    "import torchvision.models as models\n",
    "import torchvision.transforms as transforms\n",
    "import time\n",
    "import os\n",
    "import copy\n",
    "from PIL import Image\n",
    "from sklearn.metrics import confusion_matrix\n",
    "import matplotlib.pyplot as plt\n",
    "import numpy as np\n",
    "import pandas as pd\n",
    "import time"
   ],
   "metadata": {
    "collapsed": false,
    "ExecuteTime": {
     "end_time": "2023-11-08T21:42:37.671927Z",
     "start_time": "2023-11-08T21:41:53.090107Z"
    }
   },
   "id": "initial_id"
  },
  {
   "cell_type": "markdown",
   "source": [
    "Ideas:\n",
    "\n",
    "Maximum Weight Aggregation:\n",
    "Choose the maximum weight across all models for each parameter.\n",
    "This could be useful if you want the final model to be influenced more by the most confident models.\n",
    "\n",
    "Minimum Weight Aggregation:\n",
    "Choose the minimum weight across all models for each parameter.\n",
    "This could be useful for robustness or conservative decision-making.\n",
    "\n",
    "Trimmed Mean or Middle Aggregation:\n",
    "Exclude extreme values (such as the highest and lowest weights) and compute the average of the remaining weights.\n",
    "This can help eliminate outlier effects on the final model.\n",
    "\n",
    "Geometric Mean:\n",
    "Compute the nth root of the product of weights for each parameter.\n",
    "This is especially useful when handling products or ratios in a multiplicative system.\n",
    "\n",
    "Harmonic Mean:\n",
    "Inverse of the mean of the reciprocals of the weights for each parameter.\n",
    "Useful for averaging rates or ratios.\n",
    "\n",
    "Weighted Average:\n",
    "Assign weights to each model's contribution. For example, if you have better-performing GPUs or models, you might assign higher weights to their contributions.\n",
    "\n",
    "Median Aggregation:\n",
    "Choose the median weight across all models for each parameter.\n",
    "This could be robust to outliers as it takes the middle value."
   ],
   "metadata": {
    "collapsed": false
   },
   "id": "483309519f33839c"
  },
  {
   "cell_type": "code",
   "execution_count": null,
   "outputs": [],
   "source": [],
   "metadata": {
    "collapsed": false
   },
   "id": "aecd1efa679fa3f5"
  }
 ],
 "metadata": {
  "kernelspec": {
   "display_name": "Python 3",
   "language": "python",
   "name": "python3"
  },
  "language_info": {
   "codemirror_mode": {
    "name": "ipython",
    "version": 2
   },
   "file_extension": ".py",
   "mimetype": "text/x-python",
   "name": "python",
   "nbconvert_exporter": "python",
   "pygments_lexer": "ipython2",
   "version": "2.7.6"
  }
 },
 "nbformat": 4,
 "nbformat_minor": 5
}
